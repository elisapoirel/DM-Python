{
 "cells": [
  {
   "cell_type": "code",
   "execution_count": 2,
   "metadata": {},
   "outputs": [],
   "source": [
    "import pandas as pd"
   ]
  },
  {
   "cell_type": "code",
   "execution_count": 3,
   "metadata": {},
   "outputs": [],
   "source": [
    "etablissement=pd.read_csv('Déchets 2016/etablissements.csv')"
   ]
  },
  {
   "cell_type": "code",
   "execution_count": 4,
   "metadata": {},
   "outputs": [],
   "source": [
    "emission=pd.read_csv('Déchets 2016/emissions.csv',decimal='.')"
   ]
  },
  {
   "cell_type": "code",
   "execution_count": 5,
   "metadata": {},
   "outputs": [],
   "source": [
    "d16= pd.merge(left=etablissement, right=emission, left_on='Identifiant', right_on='Identifiant')"
   ]
  },
  {
   "cell_type": "code",
   "execution_count": 6,
   "metadata": {},
   "outputs": [],
   "source": [
    "d16=d16[['Coordonnees_X','Coordonnees_Y','Polluant','quantite']]"
   ]
  },
  {
   "cell_type": "code",
   "execution_count": 7,
   "metadata": {},
   "outputs": [
    {
     "data": {
      "text/html": [
       "<div>\n",
       "<style scoped>\n",
       "    .dataframe tbody tr th:only-of-type {\n",
       "        vertical-align: middle;\n",
       "    }\n",
       "\n",
       "    .dataframe tbody tr th {\n",
       "        vertical-align: top;\n",
       "    }\n",
       "\n",
       "    .dataframe thead th {\n",
       "        text-align: right;\n",
       "    }\n",
       "</style>\n",
       "<table border=\"1\" class=\"dataframe\">\n",
       "  <thead>\n",
       "    <tr style=\"text-align: right;\">\n",
       "      <th></th>\n",
       "      <th>Coordonnees_X</th>\n",
       "      <th>Coordonnees_Y</th>\n",
       "      <th>Polluant</th>\n",
       "      <th>quantite</th>\n",
       "    </tr>\n",
       "  </thead>\n",
       "  <tbody>\n",
       "    <tr>\n",
       "      <th>0</th>\n",
       "      <td>762639.0</td>\n",
       "      <td>1873015.0</td>\n",
       "      <td>Demande biologique en oxygène (DBO5)</td>\n",
       "      <td>94700.0</td>\n",
       "    </tr>\n",
       "    <tr>\n",
       "      <th>1</th>\n",
       "      <td>762639.0</td>\n",
       "      <td>1873015.0</td>\n",
       "      <td>Demande chimique en oxygène (DCO)</td>\n",
       "      <td>189000.0</td>\n",
       "    </tr>\n",
       "    <tr>\n",
       "      <th>2</th>\n",
       "      <td>548100.0</td>\n",
       "      <td>2637000.0</td>\n",
       "      <td>Demande biologique en oxygène (DBO5)</td>\n",
       "      <td>64800.0</td>\n",
       "    </tr>\n",
       "    <tr>\n",
       "      <th>3</th>\n",
       "      <td>805789.0</td>\n",
       "      <td>2028946.0</td>\n",
       "      <td>Composés organiques volatils non méthaniques (...</td>\n",
       "      <td>34000.0</td>\n",
       "    </tr>\n",
       "    <tr>\n",
       "      <th>4</th>\n",
       "      <td>805789.0</td>\n",
       "      <td>2028946.0</td>\n",
       "      <td>Méthane (CH4)</td>\n",
       "      <td>232000.0</td>\n",
       "    </tr>\n",
       "  </tbody>\n",
       "</table>\n",
       "</div>"
      ],
      "text/plain": [
       "   Coordonnees_X  Coordonnees_Y  \\\n",
       "0       762639.0      1873015.0   \n",
       "1       762639.0      1873015.0   \n",
       "2       548100.0      2637000.0   \n",
       "3       805789.0      2028946.0   \n",
       "4       805789.0      2028946.0   \n",
       "\n",
       "                                            Polluant  quantite  \n",
       "0               Demande biologique en oxygène (DBO5)   94700.0  \n",
       "1                  Demande chimique en oxygène (DCO)  189000.0  \n",
       "2               Demande biologique en oxygène (DBO5)   64800.0  \n",
       "3  Composés organiques volatils non méthaniques (...   34000.0  \n",
       "4                                      Méthane (CH4)  232000.0  "
      ]
     },
     "execution_count": 7,
     "metadata": {},
     "output_type": "execute_result"
    }
   ],
   "source": [
    "d16.head()"
   ]
  },
  {
   "cell_type": "code",
   "execution_count": 8,
   "metadata": {},
   "outputs": [],
   "source": [
    "from pyproj import Proj, transform"
   ]
  },
  {
   "cell_type": "code",
   "execution_count": 9,
   "metadata": {},
   "outputs": [],
   "source": [
    "long, lat =transform(Proj(init='epsg:2192'), Proj(init='epsg:4326'), d16.Coordonnees_X.values, d16.Coordonnees_Y.values)\n",
    "d16['LLX']=long\n",
    "d16['LLY']=lat"
   ]
  },
  {
   "cell_type": "code",
   "execution_count": 10,
   "metadata": {},
   "outputs": [
    {
     "data": {
      "text/html": [
       "<div>\n",
       "<style scoped>\n",
       "    .dataframe tbody tr th:only-of-type {\n",
       "        vertical-align: middle;\n",
       "    }\n",
       "\n",
       "    .dataframe tbody tr th {\n",
       "        vertical-align: top;\n",
       "    }\n",
       "\n",
       "    .dataframe thead th {\n",
       "        text-align: right;\n",
       "    }\n",
       "</style>\n",
       "<table border=\"1\" class=\"dataframe\">\n",
       "  <thead>\n",
       "    <tr style=\"text-align: right;\">\n",
       "      <th></th>\n",
       "      <th>Coordonnees_X</th>\n",
       "      <th>Coordonnees_Y</th>\n",
       "      <th>Polluant</th>\n",
       "      <th>quantite</th>\n",
       "      <th>LLX</th>\n",
       "      <th>LLY</th>\n",
       "    </tr>\n",
       "  </thead>\n",
       "  <tbody>\n",
       "    <tr>\n",
       "      <th>0</th>\n",
       "      <td>762639.0</td>\n",
       "      <td>1873015.0</td>\n",
       "      <td>Demande biologique en oxygène (DBO5)</td>\n",
       "      <td>94700.0</td>\n",
       "      <td>4.356168</td>\n",
       "      <td>43.839050</td>\n",
       "    </tr>\n",
       "    <tr>\n",
       "      <th>1</th>\n",
       "      <td>762639.0</td>\n",
       "      <td>1873015.0</td>\n",
       "      <td>Demande chimique en oxygène (DCO)</td>\n",
       "      <td>189000.0</td>\n",
       "      <td>4.356168</td>\n",
       "      <td>43.839050</td>\n",
       "    </tr>\n",
       "    <tr>\n",
       "      <th>2</th>\n",
       "      <td>548100.0</td>\n",
       "      <td>2637000.0</td>\n",
       "      <td>Demande biologique en oxygène (DBO5)</td>\n",
       "      <td>64800.0</td>\n",
       "      <td>1.602574</td>\n",
       "      <td>50.723851</td>\n",
       "    </tr>\n",
       "    <tr>\n",
       "      <th>3</th>\n",
       "      <td>805789.0</td>\n",
       "      <td>2028946.0</td>\n",
       "      <td>Composés organiques volatils non méthaniques (...</td>\n",
       "      <td>34000.0</td>\n",
       "      <td>4.956297</td>\n",
       "      <td>45.229284</td>\n",
       "    </tr>\n",
       "    <tr>\n",
       "      <th>4</th>\n",
       "      <td>805789.0</td>\n",
       "      <td>2028946.0</td>\n",
       "      <td>Méthane (CH4)</td>\n",
       "      <td>232000.0</td>\n",
       "      <td>4.956297</td>\n",
       "      <td>45.229284</td>\n",
       "    </tr>\n",
       "  </tbody>\n",
       "</table>\n",
       "</div>"
      ],
      "text/plain": [
       "   Coordonnees_X  Coordonnees_Y  \\\n",
       "0       762639.0      1873015.0   \n",
       "1       762639.0      1873015.0   \n",
       "2       548100.0      2637000.0   \n",
       "3       805789.0      2028946.0   \n",
       "4       805789.0      2028946.0   \n",
       "\n",
       "                                            Polluant  quantite       LLX  \\\n",
       "0               Demande biologique en oxygène (DBO5)   94700.0  4.356168   \n",
       "1                  Demande chimique en oxygène (DCO)  189000.0  4.356168   \n",
       "2               Demande biologique en oxygène (DBO5)   64800.0  1.602574   \n",
       "3  Composés organiques volatils non méthaniques (...   34000.0  4.956297   \n",
       "4                                      Méthane (CH4)  232000.0  4.956297   \n",
       "\n",
       "         LLY  \n",
       "0  43.839050  \n",
       "1  43.839050  \n",
       "2  50.723851  \n",
       "3  45.229284  \n",
       "4  45.229284  "
      ]
     },
     "execution_count": 10,
     "metadata": {},
     "output_type": "execute_result"
    }
   ],
   "source": [
    "d16.head()"
   ]
  },
  {
   "cell_type": "code",
   "execution_count": 12,
   "metadata": {},
   "outputs": [],
   "source": [
    "import matplotlib.pyplot as plt"
   ]
  },
  {
   "cell_type": "code",
   "execution_count": 13,
   "metadata": {},
   "outputs": [
    {
     "data": {
      "image/png": "[encoded data removed]",
      "text/plain": [
       "<Figure size 432x288 with 1 Axes>"
      ]
     },
     "metadata": {
      "needs_background": "light"
     },
     "output_type": "display_data"
    }
   ],
   "source": [
    "plt.scatter(d16.LLX,d16.LLY)\n",
    "plt.xlim((-5,10))\n",
    "plt.ylim((41,52))\n",
    "plt.show()"
   ]
  },
  {
   "cell_type": "code",
   "execution_count": null,
   "metadata": {},
   "outputs": [],
   "source": []
  }
 ],
 "metadata": {
  "kernelspec": {
   "display_name": "Python 3",
   "language": "python",
   "name": "python3"
  },
  "language_info": {
   "codemirror_mode": {
    "name": "ipython",
    "version": 3
   },
   "file_extension": ".py",
   "mimetype": "text/x-python",
   "name": "python",
   "nbconvert_exporter": "python",
   "pygments_lexer": "ipython3",
   "version": "3.7.3"
  }
 },
 "nbformat": 4,
 "nbformat_minor": 2
}
