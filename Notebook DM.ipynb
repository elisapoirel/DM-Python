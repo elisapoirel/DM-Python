{
 "cells": [
  {
   "cell_type": "code",
   "execution_count": 35,
   "metadata": {},
   "outputs": [],
   "source": [
    "import pandas as pd "
   ]
  },
  {
   "cell_type": "code",
   "execution_count": 36,
   "metadata": {},
   "outputs": [],
   "source": [
    "d18=pd.read_csv('Flow 2018/2018.csv',sep=';', decimal=',')"
   ]
  },
  {
   "cell_type": "code",
   "execution_count": 37,
   "metadata": {},
   "outputs": [
    {
     "data": {
      "text/html": [
       "<div>\n",
       "<style scoped>\n",
       "    .dataframe tbody tr th:only-of-type {\n",
       "        vertical-align: middle;\n",
       "    }\n",
       "\n",
       "    .dataframe tbody tr th {\n",
       "        vertical-align: top;\n",
       "    }\n",
       "\n",
       "    .dataframe thead th {\n",
       "        text-align: right;\n",
       "    }\n",
       "</style>\n",
       "<table border=\"1\" class=\"dataframe\">\n",
       "  <thead>\n",
       "    <tr style=\"text-align: right;\">\n",
       "      <th></th>\n",
       "      <th>DOMAINE</th>\n",
       "      <th>SOUS_DOMAINE</th>\n",
       "      <th>SOUS_DOMAINE_NIV2</th>\n",
       "      <th>SOUS_DOMAINE_NIV3</th>\n",
       "      <th>DOSSIER_CODE</th>\n",
       "      <th>DOSSIER_OBJET</th>\n",
       "      <th>TIERS_NOM</th>\n",
       "      <th>COMMUNE</th>\n",
       "      <th>COMMUNE_X</th>\n",
       "      <th>COMMUNE_Y</th>\n",
       "      <th>DOSSIER_DATE_NOTIFICATION</th>\n",
       "      <th>DOSSIER_DUREE</th>\n",
       "      <th>iNbDossiers</th>\n",
       "      <th>iOpÈrationCout</th>\n",
       "      <th>iMontantTotal</th>\n",
       "    </tr>\n",
       "  </thead>\n",
       "  <tbody>\n",
       "    <tr>\n",
       "      <th>0</th>\n",
       "      <td>D1-Energie, changement climatique, qualitÈ de ...</td>\n",
       "      <td>1BA-B‚timent</td>\n",
       "      <td>1BA.01-Performance ÈnergÈtique b‚timent</td>\n",
       "      <td>-</td>\n",
       "      <td>17GAC0007</td>\n",
       "      <td>Construction du groupe scolaire de Calvaire ‡ ...</td>\n",
       "      <td>COMMUNE DE BAIE-MAHAULT</td>\n",
       "      <td>Guadeloupe</td>\n",
       "      <td>-61.539650</td>\n",
       "      <td>16.198191</td>\n",
       "      <td>23/05/2018</td>\n",
       "      <td>36</td>\n",
       "      <td>1</td>\n",
       "      <td>719730.0</td>\n",
       "      <td>20586.0</td>\n",
       "    </tr>\n",
       "    <tr>\n",
       "      <th>1</th>\n",
       "      <td>D1-Energie, changement climatique, qualitÈ de ...</td>\n",
       "      <td>1BA-B‚timent</td>\n",
       "      <td>1BA.01-Performance ÈnergÈtique b‚timent</td>\n",
       "      <td>-</td>\n",
       "      <td>17MAC0054</td>\n",
       "      <td>LaurÈat AAP RÈnovation B‚timent - RÈnovation È...</td>\n",
       "      <td>SA DE LA RAFFINERIE DES ANTILLES</td>\n",
       "      <td>Fort-de-France</td>\n",
       "      <td>-61.069188</td>\n",
       "      <td>14.641109</td>\n",
       "      <td>07/06/2018</td>\n",
       "      <td>26</td>\n",
       "      <td>1</td>\n",
       "      <td>488813.0</td>\n",
       "      <td>102154.0</td>\n",
       "    </tr>\n",
       "    <tr>\n",
       "      <th>2</th>\n",
       "      <td>D1-Energie, changement climatique, qualitÈ de ...</td>\n",
       "      <td>1BA-B‚timent</td>\n",
       "      <td>1BA.01-Performance ÈnergÈtique b‚timent</td>\n",
       "      <td>-</td>\n",
       "      <td>17REC0125</td>\n",
       "      <td>Projet PREBAT UFR santÈ</td>\n",
       "      <td>UNIVERSITE DE LA REUNION</td>\n",
       "      <td>La RÈunion</td>\n",
       "      <td>55.532483</td>\n",
       "      <td>-21.133114</td>\n",
       "      <td>03/05/2018</td>\n",
       "      <td>36</td>\n",
       "      <td>1</td>\n",
       "      <td>14415686.0</td>\n",
       "      <td>194489.0</td>\n",
       "    </tr>\n",
       "    <tr>\n",
       "      <th>3</th>\n",
       "      <td>D1-Energie, changement climatique, qualitÈ de ...</td>\n",
       "      <td>1BA-B‚timent</td>\n",
       "      <td>1BA.01-Performance ÈnergÈtique b‚timent</td>\n",
       "      <td>-</td>\n",
       "      <td>18GAC0013</td>\n",
       "      <td>AAP BATEX 2017 -  RÈalisation de l'HÙtel Le RÈ...</td>\n",
       "      <td>COMPAGNIE D'EXPLOITATION HOTELIERE DES ABYMES ...</td>\n",
       "      <td>Guadeloupe</td>\n",
       "      <td>-61.539650</td>\n",
       "      <td>16.198191</td>\n",
       "      <td>26/11/2018</td>\n",
       "      <td>36</td>\n",
       "      <td>1</td>\n",
       "      <td>7429000.0</td>\n",
       "      <td>182100.0</td>\n",
       "    </tr>\n",
       "    <tr>\n",
       "      <th>4</th>\n",
       "      <td>D1-Energie, changement climatique, qualitÈ de ...</td>\n",
       "      <td>1BA-B‚timent</td>\n",
       "      <td>1BA.01-Performance ÈnergÈtique b‚timent</td>\n",
       "      <td>-</td>\n",
       "      <td>18GAC0015</td>\n",
       "      <td>AAP BATEX 2017 - Construction du b‚timent CONF...</td>\n",
       "      <td>ELLAGUA</td>\n",
       "      <td>Guadeloupe</td>\n",
       "      <td>-61.539650</td>\n",
       "      <td>16.198191</td>\n",
       "      <td>27/07/2018</td>\n",
       "      <td>44</td>\n",
       "      <td>1</td>\n",
       "      <td>1418327.0</td>\n",
       "      <td>64511.0</td>\n",
       "    </tr>\n",
       "  </tbody>\n",
       "</table>\n",
       "</div>"
      ],
      "text/plain": [
       "                                             DOMAINE  SOUS_DOMAINE  \\\n",
       "0  D1-Energie, changement climatique, qualitÈ de ...  1BA-B‚timent   \n",
       "1  D1-Energie, changement climatique, qualitÈ de ...  1BA-B‚timent   \n",
       "2  D1-Energie, changement climatique, qualitÈ de ...  1BA-B‚timent   \n",
       "3  D1-Energie, changement climatique, qualitÈ de ...  1BA-B‚timent   \n",
       "4  D1-Energie, changement climatique, qualitÈ de ...  1BA-B‚timent   \n",
       "\n",
       "                         SOUS_DOMAINE_NIV2 SOUS_DOMAINE_NIV3 DOSSIER_CODE  \\\n",
       "0  1BA.01-Performance ÈnergÈtique b‚timent                 -    17GAC0007   \n",
       "1  1BA.01-Performance ÈnergÈtique b‚timent                 -    17MAC0054   \n",
       "2  1BA.01-Performance ÈnergÈtique b‚timent                 -    17REC0125   \n",
       "3  1BA.01-Performance ÈnergÈtique b‚timent                 -    18GAC0013   \n",
       "4  1BA.01-Performance ÈnergÈtique b‚timent                 -    18GAC0015   \n",
       "\n",
       "                                       DOSSIER_OBJET  \\\n",
       "0  Construction du groupe scolaire de Calvaire ‡ ...   \n",
       "1  LaurÈat AAP RÈnovation B‚timent - RÈnovation È...   \n",
       "2                            Projet PREBAT UFR santÈ   \n",
       "3  AAP BATEX 2017 -  RÈalisation de l'HÙtel Le RÈ...   \n",
       "4  AAP BATEX 2017 - Construction du b‚timent CONF...   \n",
       "\n",
       "                                           TIERS_NOM         COMMUNE  \\\n",
       "0                            COMMUNE DE BAIE-MAHAULT      Guadeloupe   \n",
       "1                   SA DE LA RAFFINERIE DES ANTILLES  Fort-de-France   \n",
       "2                           UNIVERSITE DE LA REUNION      La RÈunion   \n",
       "3  COMPAGNIE D'EXPLOITATION HOTELIERE DES ABYMES ...      Guadeloupe   \n",
       "4                                            ELLAGUA      Guadeloupe   \n",
       "\n",
       "   COMMUNE_X  COMMUNE_Y DOSSIER_DATE_NOTIFICATION  DOSSIER_DUREE  iNbDossiers  \\\n",
       "0 -61.539650  16.198191                23/05/2018             36            1   \n",
       "1 -61.069188  14.641109                07/06/2018             26            1   \n",
       "2  55.532483 -21.133114                03/05/2018             36            1   \n",
       "3 -61.539650  16.198191                26/11/2018             36            1   \n",
       "4 -61.539650  16.198191                27/07/2018             44            1   \n",
       "\n",
       "   iOpÈrationCout  iMontantTotal  \n",
       "0        719730.0        20586.0  \n",
       "1        488813.0       102154.0  \n",
       "2      14415686.0       194489.0  \n",
       "3       7429000.0       182100.0  \n",
       "4       1418327.0        64511.0  "
      ]
     },
     "execution_count": 37,
     "metadata": {},
     "output_type": "execute_result"
    }
   ],
   "source": [
    "d18.head()"
   ]
  },
  {
   "cell_type": "code",
   "execution_count": 38,
   "metadata": {},
   "outputs": [],
   "source": [
    "d18=d18[['COMMUNE_X','COMMUNE_Y']]"
   ]
  },
  {
   "cell_type": "code",
   "execution_count": 39,
   "metadata": {},
   "outputs": [],
   "source": [
    "d18=d18.dropna()"
   ]
  },
  {
   "cell_type": "code",
   "execution_count": 40,
   "metadata": {},
   "outputs": [],
   "source": [
    "import matplotlib.pyplot as plt"
   ]
  },
  {
   "cell_type": "code",
   "execution_count": 41,
   "metadata": {},
   "outputs": [
    {
     "data": {
      "image/png": "[encoded data removed]",
      "text/plain": [
       "<Figure size 432x288 with 1 Axes>"
      ]
     },
     "metadata": {
      "needs_background": "light"
     },
     "output_type": "display_data"
    }
   ],
   "source": [
    "plt.scatter(d18.COMMUNE_X,d18.COMMUNE_Y)\n",
    "plt.xlim((-5,10))\n",
    "plt.ylim((41,52))\n",
    "plt.show()"
   ]
  },
  {
   "cell_type": "code",
   "execution_count": 42,
   "metadata": {},
   "outputs": [],
   "source": [
    "d19=pd.read_csv('Flow 2019/2019.csv',sep=';', decimal=',')\n",
    "d19=d19[['COMMUNE_X','COMMUNE_Y']]"
   ]
  },
  {
   "cell_type": "code",
   "execution_count": 43,
   "metadata": {},
   "outputs": [],
   "source": [
    "d19=d19.dropna()"
   ]
  },
  {
   "cell_type": "code",
   "execution_count": 44,
   "metadata": {},
   "outputs": [
    {
     "data": {
      "image/png": "[encoded data removed]",
      "text/plain": [
       "<Figure size 432x288 with 1 Axes>"
      ]
     },
     "metadata": {
      "needs_background": "light"
     },
     "output_type": "display_data"
    }
   ],
   "source": [
    "plt.scatter(d19.COMMUNE_X,d19.COMMUNE_Y)\n",
    "plt.xlim((-5,10))\n",
    "plt.ylim((41,52))\n",
    "plt.show()"
   ]
  },
  {
   "cell_type": "code",
   "execution_count": 81,
   "metadata": {},
   "outputs": [],
   "source": [
    "etablissement=pd.read_csv('Déchets 2016/etablissements.csv')"
   ]
  },
  {
   "cell_type": "code",
   "execution_count": 106,
   "metadata": {},
   "outputs": [],
   "source": [
    "emission=pd.read_csv('Déchets 2016/emissions.csv',decimal='.')"
   ]
  },
  {
   "cell_type": "code",
   "execution_count": 108,
   "metadata": {},
   "outputs": [],
   "source": [
    "d16= pd.merge(left=etablissement, right=emission, left_on='Identifiant', right_on='Identifiant')"
   ]
  },
  {
   "cell_type": "code",
   "execution_count": 115,
   "metadata": {},
   "outputs": [],
   "source": [
    "d16=d16[['Coordonnees_X','Coordonnees_Y','Polluant','quantite']]"
   ]
  },
  {
   "cell_type": "code",
   "execution_count": 116,
   "metadata": {},
   "outputs": [
    {
     "data": {
      "text/html": [
       "<div>\n",
       "<style scoped>\n",
       "    .dataframe tbody tr th:only-of-type {\n",
       "        vertical-align: middle;\n",
       "    }\n",
       "\n",
       "    .dataframe tbody tr th {\n",
       "        vertical-align: top;\n",
       "    }\n",
       "\n",
       "    .dataframe thead th {\n",
       "        text-align: right;\n",
       "    }\n",
       "</style>\n",
       "<table border=\"1\" class=\"dataframe\">\n",
       "  <thead>\n",
       "    <tr style=\"text-align: right;\">\n",
       "      <th></th>\n",
       "      <th>Coordonnees_X</th>\n",
       "      <th>Coordonnees_Y</th>\n",
       "      <th>Polluant</th>\n",
       "      <th>quantite</th>\n",
       "    </tr>\n",
       "  </thead>\n",
       "  <tbody>\n",
       "    <tr>\n",
       "      <th>0</th>\n",
       "      <td>762639.0</td>\n",
       "      <td>1873015.0</td>\n",
       "      <td>Demande biologique en oxygène (DBO5)</td>\n",
       "      <td>94700.0</td>\n",
       "    </tr>\n",
       "    <tr>\n",
       "      <th>1</th>\n",
       "      <td>762639.0</td>\n",
       "      <td>1873015.0</td>\n",
       "      <td>Demande chimique en oxygène (DCO)</td>\n",
       "      <td>189000.0</td>\n",
       "    </tr>\n",
       "    <tr>\n",
       "      <th>2</th>\n",
       "      <td>548100.0</td>\n",
       "      <td>2637000.0</td>\n",
       "      <td>Demande biologique en oxygène (DBO5)</td>\n",
       "      <td>64800.0</td>\n",
       "    </tr>\n",
       "    <tr>\n",
       "      <th>3</th>\n",
       "      <td>805789.0</td>\n",
       "      <td>2028946.0</td>\n",
       "      <td>Composés organiques volatils non méthaniques (...</td>\n",
       "      <td>34000.0</td>\n",
       "    </tr>\n",
       "    <tr>\n",
       "      <th>4</th>\n",
       "      <td>805789.0</td>\n",
       "      <td>2028946.0</td>\n",
       "      <td>Méthane (CH4)</td>\n",
       "      <td>232000.0</td>\n",
       "    </tr>\n",
       "  </tbody>\n",
       "</table>\n",
       "</div>"
      ],
      "text/plain": [
       "   Coordonnees_X  Coordonnees_Y  \\\n",
       "0       762639.0      1873015.0   \n",
       "1       762639.0      1873015.0   \n",
       "2       548100.0      2637000.0   \n",
       "3       805789.0      2028946.0   \n",
       "4       805789.0      2028946.0   \n",
       "\n",
       "                                            Polluant  quantite  \n",
       "0               Demande biologique en oxygène (DBO5)   94700.0  \n",
       "1                  Demande chimique en oxygène (DCO)  189000.0  \n",
       "2               Demande biologique en oxygène (DBO5)   64800.0  \n",
       "3  Composés organiques volatils non méthaniques (...   34000.0  \n",
       "4                                      Méthane (CH4)  232000.0  "
      ]
     },
     "execution_count": 116,
     "metadata": {},
     "output_type": "execute_result"
    }
   ],
   "source": [
    "d16.head()"
   ]
  },
  {
   "cell_type": "code",
   "execution_count": 117,
   "metadata": {},
   "outputs": [],
   "source": [
    "from pyproj import Proj, transform"
   ]
  },
  {
   "cell_type": "code",
   "execution_count": 118,
   "metadata": {},
   "outputs": [],
   "source": [
    "p1 = Proj(init='epsg:4326')\n",
    "p2 = Proj(init='epsg:2154')  # coordonnées en Lambert 93\n",
    "exp = (509411.0, 2494315.0)  # on prend les coordonnées de Rouen comme référence comme dans le notebook d'exemple sur le site"
   ]
  },
  {
   "cell_type": "code",
   "execution_count": 119,
   "metadata": {},
   "outputs": [
    {
     "name": "stderr",
     "output_type": "stream",
     "text": [
      "100%|██████████| 8000/8000 [00:05<00:00, 656.76it/s] \n"
     ]
    },
    {
     "data": {
      "text/plain": [
       "[(2542.1140882632462, 2192, (507296.7366974243, 2493887.1492143124)),\n",
       " (2685.771615425416, 7401, (507255.55682213436, 2493784.67156244)),\n",
       " (2685.771615425416, 7402, (507255.55682213436, 2493784.67156244)),\n",
       " (2685.771615425416, 7411, (507255.55682213436, 2493784.67156244)),\n",
       " (2685.771615425416, 7412, (507255.55682213436, 2493784.67156244)),\n",
       " (2685.771615425416, 7421, (507255.55682213436, 2493784.67156244)),\n",
       " (1272190.1006467447, 2062, (948698.6309991917, 1661412.530352447)),\n",
       " (1302721.6132853723, 7403, (506939.7658750324, 3794565.3791604047)),\n",
       " (1302721.6132853723, 7413, (506939.7658750324, 3794565.3791604047)),\n",
       " (1302721.6132853723, 7422, (506939.7658750324, 3794565.3791604047))]"
      ]
     },
     "execution_count": 119,
     "metadata": {},
     "output_type": "execute_result"
    }
   ],
   "source": [
    "from tqdm import tqdm\n",
    "summary = []\n",
    "for i in tqdm(range(2000, 10000)):\n",
    "    try:\n",
    "        p2 = Proj(init='epsg:%d' % i)\n",
    "    except RuntimeError:\n",
    "        # does not exist\n",
    "        continue\n",
    "    try:\n",
    "        res = transform(p1, p2, 1.059011, 49.434654)\n",
    "    except RuntimeError:\n",
    "        # impossible\n",
    "        continue\n",
    "    d = abs(res[0] - exp[0]) + abs(res[1] - exp[1])\n",
    "    summary.append((d, i, res))\n",
    "summary.sort()\n",
    "summary[:10]"
   ]
  },
  {
   "cell_type": "code",
   "execution_count": 120,
   "metadata": {},
   "outputs": [],
   "source": [
    "p2 = Proj(init='epsg:2192') #comme dans l'exemple le test renvoie 2192 ou 7401 comme valeurs les plus proches\n",
    "long, lat =transform(p2, p1, d16.Coordonnees_X.values, d16.Coordonnees_Y.values)\n",
    "d16['LLX']=long\n",
    "d16['LLY']=lat"
   ]
  },
  {
   "cell_type": "code",
   "execution_count": 121,
   "metadata": {},
   "outputs": [
    {
     "data": {
      "text/html": [
       "<div>\n",
       "<style scoped>\n",
       "    .dataframe tbody tr th:only-of-type {\n",
       "        vertical-align: middle;\n",
       "    }\n",
       "\n",
       "    .dataframe tbody tr th {\n",
       "        vertical-align: top;\n",
       "    }\n",
       "\n",
       "    .dataframe thead th {\n",
       "        text-align: right;\n",
       "    }\n",
       "</style>\n",
       "<table border=\"1\" class=\"dataframe\">\n",
       "  <thead>\n",
       "    <tr style=\"text-align: right;\">\n",
       "      <th></th>\n",
       "      <th>Coordonnees_X</th>\n",
       "      <th>Coordonnees_Y</th>\n",
       "      <th>Polluant</th>\n",
       "      <th>quantite</th>\n",
       "      <th>LLX</th>\n",
       "      <th>LLY</th>\n",
       "    </tr>\n",
       "  </thead>\n",
       "  <tbody>\n",
       "    <tr>\n",
       "      <th>0</th>\n",
       "      <td>762639.0</td>\n",
       "      <td>1873015.0</td>\n",
       "      <td>Demande biologique en oxygène (DBO5)</td>\n",
       "      <td>94700.0</td>\n",
       "      <td>4.356168</td>\n",
       "      <td>43.839050</td>\n",
       "    </tr>\n",
       "    <tr>\n",
       "      <th>1</th>\n",
       "      <td>762639.0</td>\n",
       "      <td>1873015.0</td>\n",
       "      <td>Demande chimique en oxygène (DCO)</td>\n",
       "      <td>189000.0</td>\n",
       "      <td>4.356168</td>\n",
       "      <td>43.839050</td>\n",
       "    </tr>\n",
       "    <tr>\n",
       "      <th>2</th>\n",
       "      <td>548100.0</td>\n",
       "      <td>2637000.0</td>\n",
       "      <td>Demande biologique en oxygène (DBO5)</td>\n",
       "      <td>64800.0</td>\n",
       "      <td>1.602574</td>\n",
       "      <td>50.723851</td>\n",
       "    </tr>\n",
       "    <tr>\n",
       "      <th>3</th>\n",
       "      <td>805789.0</td>\n",
       "      <td>2028946.0</td>\n",
       "      <td>Composés organiques volatils non méthaniques (...</td>\n",
       "      <td>34000.0</td>\n",
       "      <td>4.956297</td>\n",
       "      <td>45.229284</td>\n",
       "    </tr>\n",
       "    <tr>\n",
       "      <th>4</th>\n",
       "      <td>805789.0</td>\n",
       "      <td>2028946.0</td>\n",
       "      <td>Méthane (CH4)</td>\n",
       "      <td>232000.0</td>\n",
       "      <td>4.956297</td>\n",
       "      <td>45.229284</td>\n",
       "    </tr>\n",
       "  </tbody>\n",
       "</table>\n",
       "</div>"
      ],
      "text/plain": [
       "   Coordonnees_X  Coordonnees_Y  \\\n",
       "0       762639.0      1873015.0   \n",
       "1       762639.0      1873015.0   \n",
       "2       548100.0      2637000.0   \n",
       "3       805789.0      2028946.0   \n",
       "4       805789.0      2028946.0   \n",
       "\n",
       "                                            Polluant  quantite       LLX  \\\n",
       "0               Demande biologique en oxygène (DBO5)   94700.0  4.356168   \n",
       "1                  Demande chimique en oxygène (DCO)  189000.0  4.356168   \n",
       "2               Demande biologique en oxygène (DBO5)   64800.0  1.602574   \n",
       "3  Composés organiques volatils non méthaniques (...   34000.0  4.956297   \n",
       "4                                      Méthane (CH4)  232000.0  4.956297   \n",
       "\n",
       "         LLY  \n",
       "0  43.839050  \n",
       "1  43.839050  \n",
       "2  50.723851  \n",
       "3  45.229284  \n",
       "4  45.229284  "
      ]
     },
     "execution_count": 121,
     "metadata": {},
     "output_type": "execute_result"
    }
   ],
   "source": [
    "d16.head()"
   ]
  },
  {
   "cell_type": "code",
   "execution_count": 122,
   "metadata": {},
   "outputs": [
    {
     "data": {
      "image/png": "[encoded data removed]",
      "text/plain": [
       "<Figure size 432x288 with 1 Axes>"
      ]
     },
     "metadata": {
      "needs_background": "light"
     },
     "output_type": "display_data"
    }
   ],
   "source": [
    "plt.scatter(d16.LLX,d16.LLY)\n",
    "plt.xlim((-5,10))\n",
    "plt.ylim((41,52))\n",
    "plt.show()"
   ]
  }
 ],
 "metadata": {
  "kernelspec": {
   "display_name": "Python 3",
   "language": "python",
   "name": "python3"
  },
  "language_info": {
   "codemirror_mode": {
    "name": "ipython",
    "version": 3
   },
   "file_extension": ".py",
   "mimetype": "text/x-python",
   "name": "python",
   "nbconvert_exporter": "python",
   "pygments_lexer": "ipython3",
   "version": "3.7.3"
  }
 },
 "nbformat": 4,
 "nbformat_minor": 2
}
