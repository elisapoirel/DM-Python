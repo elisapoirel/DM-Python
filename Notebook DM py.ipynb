{
 "cells": [
  {
   "cell_type": "code",
   "execution_count": 4,
   "metadata": {},
   "outputs": [],
   "source": [
    "import pandas as pd "
   ]
  },
  {
   "cell_type": "code",
   "execution_count": 5,
   "metadata": {},
   "outputs": [],
   "source": [
    "d18=pd.read_csv('Flow 2018/2018.csv',sep=';', decimal=',')"
   ]
  },
  {
   "cell_type": "code",
   "execution_count": 6,
   "metadata": {},
   "outputs": [
    {
     "data": {
      "text/html": [
       "<div>\n",
       "<style scoped>\n",
       "    .dataframe tbody tr th:only-of-type {\n",
       "        vertical-align: middle;\n",
       "    }\n",
       "\n",
       "    .dataframe tbody tr th {\n",
       "        vertical-align: top;\n",
       "    }\n",
       "\n",
       "    .dataframe thead th {\n",
       "        text-align: right;\n",
       "    }\n",
       "</style>\n",
       "<table border=\"1\" class=\"dataframe\">\n",
       "  <thead>\n",
       "    <tr style=\"text-align: right;\">\n",
       "      <th></th>\n",
       "      <th>DOMAINE</th>\n",
       "      <th>SOUS_DOMAINE</th>\n",
       "      <th>SOUS_DOMAINE_NIV2</th>\n",
       "      <th>SOUS_DOMAINE_NIV3</th>\n",
       "      <th>DOSSIER_CODE</th>\n",
       "      <th>DOSSIER_OBJET</th>\n",
       "      <th>TIERS_NOM</th>\n",
       "      <th>COMMUNE</th>\n",
       "      <th>COMMUNE_X</th>\n",
       "      <th>COMMUNE_Y</th>\n",
       "      <th>DOSSIER_DATE_NOTIFICATION</th>\n",
       "      <th>DOSSIER_DUREE</th>\n",
       "      <th>iNbDossiers</th>\n",
       "      <th>iOpÈrationCout</th>\n",
       "      <th>iMontantTotal</th>\n",
       "    </tr>\n",
       "  </thead>\n",
       "  <tbody>\n",
       "    <tr>\n",
       "      <th>0</th>\n",
       "      <td>D1-Energie, changement climatique, qualitÈ de ...</td>\n",
       "      <td>1BA-B‚timent</td>\n",
       "      <td>1BA.01-Performance ÈnergÈtique b‚timent</td>\n",
       "      <td>-</td>\n",
       "      <td>17GAC0007</td>\n",
       "      <td>Construction du groupe scolaire de Calvaire ‡ ...</td>\n",
       "      <td>COMMUNE DE BAIE-MAHAULT</td>\n",
       "      <td>Guadeloupe</td>\n",
       "      <td>-61.539650</td>\n",
       "      <td>16.198191</td>\n",
       "      <td>23/05/2018</td>\n",
       "      <td>36</td>\n",
       "      <td>1</td>\n",
       "      <td>719730.0</td>\n",
       "      <td>20586.0</td>\n",
       "    </tr>\n",
       "    <tr>\n",
       "      <th>1</th>\n",
       "      <td>D1-Energie, changement climatique, qualitÈ de ...</td>\n",
       "      <td>1BA-B‚timent</td>\n",
       "      <td>1BA.01-Performance ÈnergÈtique b‚timent</td>\n",
       "      <td>-</td>\n",
       "      <td>17MAC0054</td>\n",
       "      <td>LaurÈat AAP RÈnovation B‚timent - RÈnovation È...</td>\n",
       "      <td>SA DE LA RAFFINERIE DES ANTILLES</td>\n",
       "      <td>Fort-de-France</td>\n",
       "      <td>-61.069188</td>\n",
       "      <td>14.641109</td>\n",
       "      <td>07/06/2018</td>\n",
       "      <td>26</td>\n",
       "      <td>1</td>\n",
       "      <td>488813.0</td>\n",
       "      <td>102154.0</td>\n",
       "    </tr>\n",
       "    <tr>\n",
       "      <th>2</th>\n",
       "      <td>D1-Energie, changement climatique, qualitÈ de ...</td>\n",
       "      <td>1BA-B‚timent</td>\n",
       "      <td>1BA.01-Performance ÈnergÈtique b‚timent</td>\n",
       "      <td>-</td>\n",
       "      <td>17REC0125</td>\n",
       "      <td>Projet PREBAT UFR santÈ</td>\n",
       "      <td>UNIVERSITE DE LA REUNION</td>\n",
       "      <td>La RÈunion</td>\n",
       "      <td>55.532483</td>\n",
       "      <td>-21.133114</td>\n",
       "      <td>03/05/2018</td>\n",
       "      <td>36</td>\n",
       "      <td>1</td>\n",
       "      <td>14415686.0</td>\n",
       "      <td>194489.0</td>\n",
       "    </tr>\n",
       "    <tr>\n",
       "      <th>3</th>\n",
       "      <td>D1-Energie, changement climatique, qualitÈ de ...</td>\n",
       "      <td>1BA-B‚timent</td>\n",
       "      <td>1BA.01-Performance ÈnergÈtique b‚timent</td>\n",
       "      <td>-</td>\n",
       "      <td>18GAC0013</td>\n",
       "      <td>AAP BATEX 2017 -  RÈalisation de l'HÙtel Le RÈ...</td>\n",
       "      <td>COMPAGNIE D'EXPLOITATION HOTELIERE DES ABYMES ...</td>\n",
       "      <td>Guadeloupe</td>\n",
       "      <td>-61.539650</td>\n",
       "      <td>16.198191</td>\n",
       "      <td>26/11/2018</td>\n",
       "      <td>36</td>\n",
       "      <td>1</td>\n",
       "      <td>7429000.0</td>\n",
       "      <td>182100.0</td>\n",
       "    </tr>\n",
       "    <tr>\n",
       "      <th>4</th>\n",
       "      <td>D1-Energie, changement climatique, qualitÈ de ...</td>\n",
       "      <td>1BA-B‚timent</td>\n",
       "      <td>1BA.01-Performance ÈnergÈtique b‚timent</td>\n",
       "      <td>-</td>\n",
       "      <td>18GAC0015</td>\n",
       "      <td>AAP BATEX 2017 - Construction du b‚timent CONF...</td>\n",
       "      <td>ELLAGUA</td>\n",
       "      <td>Guadeloupe</td>\n",
       "      <td>-61.539650</td>\n",
       "      <td>16.198191</td>\n",
       "      <td>27/07/2018</td>\n",
       "      <td>44</td>\n",
       "      <td>1</td>\n",
       "      <td>1418327.0</td>\n",
       "      <td>64511.0</td>\n",
       "    </tr>\n",
       "  </tbody>\n",
       "</table>\n",
       "</div>"
      ],
      "text/plain": [
       "                                             DOMAINE  SOUS_DOMAINE  \\\n",
       "0  D1-Energie, changement climatique, qualitÈ de ...  1BA-B‚timent   \n",
       "1  D1-Energie, changement climatique, qualitÈ de ...  1BA-B‚timent   \n",
       "2  D1-Energie, changement climatique, qualitÈ de ...  1BA-B‚timent   \n",
       "3  D1-Energie, changement climatique, qualitÈ de ...  1BA-B‚timent   \n",
       "4  D1-Energie, changement climatique, qualitÈ de ...  1BA-B‚timent   \n",
       "\n",
       "                         SOUS_DOMAINE_NIV2 SOUS_DOMAINE_NIV3 DOSSIER_CODE  \\\n",
       "0  1BA.01-Performance ÈnergÈtique b‚timent                 -    17GAC0007   \n",
       "1  1BA.01-Performance ÈnergÈtique b‚timent                 -    17MAC0054   \n",
       "2  1BA.01-Performance ÈnergÈtique b‚timent                 -    17REC0125   \n",
       "3  1BA.01-Performance ÈnergÈtique b‚timent                 -    18GAC0013   \n",
       "4  1BA.01-Performance ÈnergÈtique b‚timent                 -    18GAC0015   \n",
       "\n",
       "                                       DOSSIER_OBJET  \\\n",
       "0  Construction du groupe scolaire de Calvaire ‡ ...   \n",
       "1  LaurÈat AAP RÈnovation B‚timent - RÈnovation È...   \n",
       "2                            Projet PREBAT UFR santÈ   \n",
       "3  AAP BATEX 2017 -  RÈalisation de l'HÙtel Le RÈ...   \n",
       "4  AAP BATEX 2017 - Construction du b‚timent CONF...   \n",
       "\n",
       "                                           TIERS_NOM         COMMUNE  \\\n",
       "0                            COMMUNE DE BAIE-MAHAULT      Guadeloupe   \n",
       "1                   SA DE LA RAFFINERIE DES ANTILLES  Fort-de-France   \n",
       "2                           UNIVERSITE DE LA REUNION      La RÈunion   \n",
       "3  COMPAGNIE D'EXPLOITATION HOTELIERE DES ABYMES ...      Guadeloupe   \n",
       "4                                            ELLAGUA      Guadeloupe   \n",
       "\n",
       "   COMMUNE_X  COMMUNE_Y DOSSIER_DATE_NOTIFICATION  DOSSIER_DUREE  iNbDossiers  \\\n",
       "0 -61.539650  16.198191                23/05/2018             36            1   \n",
       "1 -61.069188  14.641109                07/06/2018             26            1   \n",
       "2  55.532483 -21.133114                03/05/2018             36            1   \n",
       "3 -61.539650  16.198191                26/11/2018             36            1   \n",
       "4 -61.539650  16.198191                27/07/2018             44            1   \n",
       "\n",
       "   iOpÈrationCout  iMontantTotal  \n",
       "0        719730.0        20586.0  \n",
       "1        488813.0       102154.0  \n",
       "2      14415686.0       194489.0  \n",
       "3       7429000.0       182100.0  \n",
       "4       1418327.0        64511.0  "
      ]
     },
     "execution_count": 6,
     "metadata": {},
     "output_type": "execute_result"
    }
   ],
   "source": [
    "d18.head()"
   ]
  },
  {
   "cell_type": "code",
   "execution_count": 7,
   "metadata": {},
   "outputs": [],
   "source": [
    "d18=d18[['COMMUNE_X','COMMUNE_Y']]"
   ]
  },
  {
   "cell_type": "code",
   "execution_count": 8,
   "metadata": {},
   "outputs": [],
   "source": [
    "d18=d18.dropna()"
   ]
  },
  {
   "cell_type": "code",
   "execution_count": 9,
   "metadata": {},
   "outputs": [],
   "source": [
    "import matplotlib.pyplot as plt"
   ]
  },
  {
   "cell_type": "code",
   "execution_count": 10,
   "metadata": {},
   "outputs": [
    {
     "data": {
      "image/png": "[encoded data removed]",
      "text/plain": [
       "<Figure size 432x288 with 1 Axes>"
      ]
     },
     "metadata": {
      "needs_background": "light"
     },
     "output_type": "display_data"
    }
   ],
   "source": [
    "plt.scatter(d18.COMMUNE_X,d18.COMMUNE_Y)\n",
    "plt.xlim((-5,10))\n",
    "plt.ylim((41,52))\n",
    "plt.show()"
   ]
  },
  {
   "cell_type": "code",
   "execution_count": 11,
   "metadata": {},
   "outputs": [],
   "source": [
    "d19=pd.read_csv('Flow 2019/2019.csv',sep=';', decimal=',')\n",
    "d19=d19[['COMMUNE_X','COMMUNE_Y']]"
   ]
  },
  {
   "cell_type": "code",
   "execution_count": 12,
   "metadata": {},
   "outputs": [],
   "source": [
    "d19=d19.dropna()\n"
   ]
  },
  {
   "cell_type": "code",
   "execution_count": 13,
   "metadata": {},
   "outputs": [
    {
     "data": {
      "image/png": "[encoded data removed]",
      "text/plain": [
       "<Figure size 432x288 with 1 Axes>"
      ]
     },
     "metadata": {
      "needs_background": "light"
     },
     "output_type": "display_data"
    }
   ],
   "source": [
    "plt.scatter(d19.COMMUNE_X,d19.COMMUNE_Y)\n",
    "plt.xlim((-5,10))\n",
    "plt.ylim((41,52))\n",
    "plt.show()"
   ]
  },
  {
   "cell_type": "code",
   "execution_count": 14,
   "metadata": {},
   "outputs": [],
   "source": [
    "d16=pd.read_csv('Déchets 2016/etablissements.csv')"
   ]
  },
  {
   "cell_type": "code",
   "execution_count": 15,
   "metadata": {},
   "outputs": [],
   "source": [
    "d16=d16[['Coordonnees_X','Coordonnees_Y']]"
   ]
  },
  {
   "cell_type": "code",
   "execution_count": 16,
   "metadata": {},
   "outputs": [
    {
     "data": {
      "text/html": [
       "<div>\n",
       "<style scoped>\n",
       "    .dataframe tbody tr th:only-of-type {\n",
       "        vertical-align: middle;\n",
       "    }\n",
       "\n",
       "    .dataframe tbody tr th {\n",
       "        vertical-align: top;\n",
       "    }\n",
       "\n",
       "    .dataframe thead th {\n",
       "        text-align: right;\n",
       "    }\n",
       "</style>\n",
       "<table border=\"1\" class=\"dataframe\">\n",
       "  <thead>\n",
       "    <tr style=\"text-align: right;\">\n",
       "      <th></th>\n",
       "      <th>Coordonnees_X</th>\n",
       "      <th>Coordonnees_Y</th>\n",
       "    </tr>\n",
       "  </thead>\n",
       "  <tbody>\n",
       "    <tr>\n",
       "      <th>0</th>\n",
       "      <td>762639.0</td>\n",
       "      <td>1873015.0</td>\n",
       "    </tr>\n",
       "    <tr>\n",
       "      <th>1</th>\n",
       "      <td>481659.0</td>\n",
       "      <td>1802490.0</td>\n",
       "    </tr>\n",
       "    <tr>\n",
       "      <th>2</th>\n",
       "      <td>790678.0</td>\n",
       "      <td>2073093.0</td>\n",
       "    </tr>\n",
       "    <tr>\n",
       "      <th>3</th>\n",
       "      <td>548100.0</td>\n",
       "      <td>2637000.0</td>\n",
       "    </tr>\n",
       "    <tr>\n",
       "      <th>4</th>\n",
       "      <td>949818.0</td>\n",
       "      <td>2305514.0</td>\n",
       "    </tr>\n",
       "  </tbody>\n",
       "</table>\n",
       "</div>"
      ],
      "text/plain": [
       "   Coordonnees_X  Coordonnees_Y\n",
       "0       762639.0      1873015.0\n",
       "1       481659.0      1802490.0\n",
       "2       790678.0      2073093.0\n",
       "3       548100.0      2637000.0\n",
       "4       949818.0      2305514.0"
      ]
     },
     "execution_count": 16,
     "metadata": {},
     "output_type": "execute_result"
    }
   ],
   "source": [
    "d16.head()"
   ]
  },
  {
   "cell_type": "code",
   "execution_count": 18,
   "metadata": {},
   "outputs": [
    {
     "ename": "ModuleNotFoundError",
     "evalue": "No module named 'pyproj'",
     "output_type": "error",
     "traceback": [
      "\u001b[0;31m---------------------------------------------------------------------------\u001b[0m",
      "\u001b[0;31mModuleNotFoundError\u001b[0m                       Traceback (most recent call last)",
      "\u001b[0;32m<ipython-input-18-7e10a3ddbeaa>\u001b[0m in \u001b[0;36m<module>\u001b[0;34m\u001b[0m\n\u001b[0;32m----> 1\u001b[0;31m \u001b[0;32mfrom\u001b[0m \u001b[0mpyproj\u001b[0m \u001b[0;32mimport\u001b[0m \u001b[0mProj\u001b[0m\u001b[0;34m,\u001b[0m \u001b[0mtransform\u001b[0m\u001b[0;34m\u001b[0m\u001b[0;34m\u001b[0m\u001b[0m\n\u001b[0m",
      "\u001b[0;31mModuleNotFoundError\u001b[0m: No module named 'pyproj'"
     ]
    }
   ],
   "source": [
    "from pyproj import Proj, transform"
   ]
  },
  {
   "cell_type": "code",
   "execution_count": 19,
   "metadata": {},
   "outputs": [
    {
     "ename": "NameError",
     "evalue": "name 'Proj' is not defined",
     "output_type": "error",
     "traceback": [
      "\u001b[0;31m---------------------------------------------------------------------------\u001b[0m",
      "\u001b[0;31mNameError\u001b[0m                                 Traceback (most recent call last)",
      "\u001b[0;32m<ipython-input-19-51b8661a3d83>\u001b[0m in \u001b[0;36m<module>\u001b[0;34m\u001b[0m\n\u001b[0;32m----> 1\u001b[0;31m \u001b[0mp1\u001b[0m \u001b[0;34m=\u001b[0m \u001b[0mProj\u001b[0m\u001b[0;34m(\u001b[0m\u001b[0minit\u001b[0m\u001b[0;34m=\u001b[0m\u001b[0;34m'epsg:4326'\u001b[0m\u001b[0;34m)\u001b[0m\u001b[0;34m\u001b[0m\u001b[0;34m\u001b[0m\u001b[0m\n\u001b[0m\u001b[1;32m      2\u001b[0m \u001b[0mp2\u001b[0m \u001b[0;34m=\u001b[0m \u001b[0mProj\u001b[0m\u001b[0;34m(\u001b[0m\u001b[0minit\u001b[0m\u001b[0;34m=\u001b[0m\u001b[0;34m'epsg:2154'\u001b[0m\u001b[0;34m)\u001b[0m  \u001b[0;31m# coordonnées en Lambert 93\u001b[0m\u001b[0;34m\u001b[0m\u001b[0;34m\u001b[0m\u001b[0m\n\u001b[1;32m      3\u001b[0m \u001b[0mexp\u001b[0m \u001b[0;34m=\u001b[0m \u001b[0;34m(\u001b[0m\u001b[0;36m509411.0\u001b[0m\u001b[0;34m,\u001b[0m \u001b[0;36m2494315.0\u001b[0m\u001b[0;34m)\u001b[0m  \u001b[0;31m# on prend les coordonnées de Rouen comme référence comme dans le notebook d'exemple sur le site\u001b[0m\u001b[0;34m\u001b[0m\u001b[0;34m\u001b[0m\u001b[0m\n",
      "\u001b[0;31mNameError\u001b[0m: name 'Proj' is not defined"
     ]
    }
   ],
   "source": [
    "p1 = Proj(init='epsg:4326')\n",
    "p2 = Proj(init='epsg:2154')  # coordonnées en Lambert 93\n",
    "exp = (509411.0, 2494315.0)  # on prend les coordonnées de Rouen comme référence comme dans le notebook d'exemple sur le site"
   ]
  },
  {
   "cell_type": "code",
   "execution_count": 20,
   "metadata": {},
   "outputs": [
    {
     "name": "stderr",
     "output_type": "stream",
     "text": [
      "  0%|          | 0/8000 [00:00<?, ?it/s]\n"
     ]
    },
    {
     "ename": "NameError",
     "evalue": "name 'Proj' is not defined",
     "output_type": "error",
     "traceback": [
      "\u001b[0;31m---------------------------------------------------------------------------\u001b[0m",
      "\u001b[0;31mNameError\u001b[0m                                 Traceback (most recent call last)",
      "\u001b[0;32m<ipython-input-20-e032d61d15ec>\u001b[0m in \u001b[0;36m<module>\u001b[0;34m\u001b[0m\n\u001b[1;32m      3\u001b[0m \u001b[0;32mfor\u001b[0m \u001b[0mi\u001b[0m \u001b[0;32min\u001b[0m \u001b[0mtqdm\u001b[0m\u001b[0;34m(\u001b[0m\u001b[0mrange\u001b[0m\u001b[0;34m(\u001b[0m\u001b[0;36m2000\u001b[0m\u001b[0;34m,\u001b[0m \u001b[0;36m10000\u001b[0m\u001b[0;34m)\u001b[0m\u001b[0;34m)\u001b[0m\u001b[0;34m:\u001b[0m\u001b[0;34m\u001b[0m\u001b[0;34m\u001b[0m\u001b[0m\n\u001b[1;32m      4\u001b[0m     \u001b[0;32mtry\u001b[0m\u001b[0;34m:\u001b[0m\u001b[0;34m\u001b[0m\u001b[0;34m\u001b[0m\u001b[0m\n\u001b[0;32m----> 5\u001b[0;31m         \u001b[0mp2\u001b[0m \u001b[0;34m=\u001b[0m \u001b[0mProj\u001b[0m\u001b[0;34m(\u001b[0m\u001b[0minit\u001b[0m\u001b[0;34m=\u001b[0m\u001b[0;34m'epsg:%d'\u001b[0m \u001b[0;34m%\u001b[0m \u001b[0mi\u001b[0m\u001b[0;34m)\u001b[0m\u001b[0;34m\u001b[0m\u001b[0;34m\u001b[0m\u001b[0m\n\u001b[0m\u001b[1;32m      6\u001b[0m     \u001b[0;32mexcept\u001b[0m \u001b[0mRuntimeError\u001b[0m\u001b[0;34m:\u001b[0m\u001b[0;34m\u001b[0m\u001b[0;34m\u001b[0m\u001b[0m\n\u001b[1;32m      7\u001b[0m         \u001b[0;31m# does not exist\u001b[0m\u001b[0;34m\u001b[0m\u001b[0;34m\u001b[0m\u001b[0;34m\u001b[0m\u001b[0m\n",
      "\u001b[0;31mNameError\u001b[0m: name 'Proj' is not defined"
     ]
    }
   ],
   "source": [
    "from tqdm import tqdm\n",
    "summary = []\n",
    "for i in tqdm(range(2000, 10000)):\n",
    "    try:\n",
    "        p2 = Proj(init='epsg:%d' % i)\n",
    "    except RuntimeError:\n",
    "        # does not exist\n",
    "        continue\n",
    "    try:\n",
    "        res = transform(p1, p2, 1.059011, 49.434654)\n",
    "    except RuntimeError:\n",
    "        # impossible\n",
    "        continue\n",
    "    d = abs(res[0] - exp[0]) + abs(res[1] - exp[1])\n",
    "    summary.append((d, i, res))\n",
    "summary.sort()\n",
    "summary[:10]"
   ]
  },
  {
   "cell_type": "code",
   "execution_count": 21,
   "metadata": {},
   "outputs": [
    {
     "ename": "NameError",
     "evalue": "name 'Proj' is not defined",
     "output_type": "error",
     "traceback": [
      "\u001b[0;31m---------------------------------------------------------------------------\u001b[0m",
      "\u001b[0;31mNameError\u001b[0m                                 Traceback (most recent call last)",
      "\u001b[0;32m<ipython-input-21-7463e234cef2>\u001b[0m in \u001b[0;36m<module>\u001b[0;34m\u001b[0m\n\u001b[0;32m----> 1\u001b[0;31m \u001b[0mp2\u001b[0m \u001b[0;34m=\u001b[0m \u001b[0mProj\u001b[0m\u001b[0;34m(\u001b[0m\u001b[0minit\u001b[0m\u001b[0;34m=\u001b[0m\u001b[0;34m'epsg:2192'\u001b[0m\u001b[0;34m)\u001b[0m \u001b[0;31m#comme dans l'exemple le test renvoie 2192 ou 7401 comme valeurs les plus proches\u001b[0m\u001b[0;34m\u001b[0m\u001b[0;34m\u001b[0m\u001b[0m\n\u001b[0m\u001b[1;32m      2\u001b[0m \u001b[0mlong\u001b[0m\u001b[0;34m,\u001b[0m \u001b[0mlat\u001b[0m \u001b[0;34m=\u001b[0m\u001b[0mtransform\u001b[0m\u001b[0;34m(\u001b[0m\u001b[0mp2\u001b[0m\u001b[0;34m,\u001b[0m \u001b[0mp1\u001b[0m\u001b[0;34m,\u001b[0m \u001b[0md16\u001b[0m\u001b[0;34m.\u001b[0m\u001b[0mCoordonnees_X\u001b[0m\u001b[0;34m.\u001b[0m\u001b[0mvalues\u001b[0m\u001b[0;34m,\u001b[0m \u001b[0md16\u001b[0m\u001b[0;34m.\u001b[0m\u001b[0mCoordonnees_Y\u001b[0m\u001b[0;34m.\u001b[0m\u001b[0mvalues\u001b[0m\u001b[0;34m)\u001b[0m\u001b[0;34m\u001b[0m\u001b[0;34m\u001b[0m\u001b[0m\n\u001b[1;32m      3\u001b[0m \u001b[0md16\u001b[0m\u001b[0;34m[\u001b[0m\u001b[0;34m'LLX'\u001b[0m\u001b[0;34m]\u001b[0m\u001b[0;34m=\u001b[0m\u001b[0mlong\u001b[0m\u001b[0;34m\u001b[0m\u001b[0;34m\u001b[0m\u001b[0m\n\u001b[1;32m      4\u001b[0m \u001b[0md16\u001b[0m\u001b[0;34m[\u001b[0m\u001b[0;34m'LLY'\u001b[0m\u001b[0;34m]\u001b[0m\u001b[0;34m=\u001b[0m\u001b[0mlat\u001b[0m\u001b[0;34m\u001b[0m\u001b[0;34m\u001b[0m\u001b[0m\n",
      "\u001b[0;31mNameError\u001b[0m: name 'Proj' is not defined"
     ]
    }
   ],
   "source": [
    "p2 = Proj(init='epsg:2192') #comme dans l'exemple le test renvoie 2192 ou 7401 comme valeurs les plus proches\n",
    "long, lat =transform(p2, p1, d16.Coordonnees_X.values, d16.Coordonnees_Y.values)\n",
    "d16['LLX']=long\n",
    "d16['LLY']=lat"
   ]
  },
  {
   "cell_type": "code",
   "execution_count": 22,
   "metadata": {},
   "outputs": [
    {
     "data": {
      "text/html": [
       "<div>\n",
       "<style scoped>\n",
       "    .dataframe tbody tr th:only-of-type {\n",
       "        vertical-align: middle;\n",
       "    }\n",
       "\n",
       "    .dataframe tbody tr th {\n",
       "        vertical-align: top;\n",
       "    }\n",
       "\n",
       "    .dataframe thead th {\n",
       "        text-align: right;\n",
       "    }\n",
       "</style>\n",
       "<table border=\"1\" class=\"dataframe\">\n",
       "  <thead>\n",
       "    <tr style=\"text-align: right;\">\n",
       "      <th></th>\n",
       "      <th>Coordonnees_X</th>\n",
       "      <th>Coordonnees_Y</th>\n",
       "    </tr>\n",
       "  </thead>\n",
       "  <tbody>\n",
       "    <tr>\n",
       "      <th>0</th>\n",
       "      <td>762639.0</td>\n",
       "      <td>1873015.0</td>\n",
       "    </tr>\n",
       "    <tr>\n",
       "      <th>1</th>\n",
       "      <td>481659.0</td>\n",
       "      <td>1802490.0</td>\n",
       "    </tr>\n",
       "    <tr>\n",
       "      <th>2</th>\n",
       "      <td>790678.0</td>\n",
       "      <td>2073093.0</td>\n",
       "    </tr>\n",
       "    <tr>\n",
       "      <th>3</th>\n",
       "      <td>548100.0</td>\n",
       "      <td>2637000.0</td>\n",
       "    </tr>\n",
       "    <tr>\n",
       "      <th>4</th>\n",
       "      <td>949818.0</td>\n",
       "      <td>2305514.0</td>\n",
       "    </tr>\n",
       "  </tbody>\n",
       "</table>\n",
       "</div>"
      ],
      "text/plain": [
       "   Coordonnees_X  Coordonnees_Y\n",
       "0       762639.0      1873015.0\n",
       "1       481659.0      1802490.0\n",
       "2       790678.0      2073093.0\n",
       "3       548100.0      2637000.0\n",
       "4       949818.0      2305514.0"
      ]
     },
     "execution_count": 22,
     "metadata": {},
     "output_type": "execute_result"
    }
   ],
   "source": [
    "d16.head()"
   ]
  },
  {
   "cell_type": "code",
   "execution_count": 23,
   "metadata": {},
   "outputs": [
    {
     "ename": "AttributeError",
     "evalue": "'DataFrame' object has no attribute 'LLX'",
     "output_type": "error",
     "traceback": [
      "\u001b[0;31m---------------------------------------------------------------------------\u001b[0m",
      "\u001b[0;31mAttributeError\u001b[0m                            Traceback (most recent call last)",
      "\u001b[0;32m<ipython-input-23-10ad1373c752>\u001b[0m in \u001b[0;36m<module>\u001b[0;34m\u001b[0m\n\u001b[0;32m----> 1\u001b[0;31m \u001b[0mplt\u001b[0m\u001b[0;34m.\u001b[0m\u001b[0mscatter\u001b[0m\u001b[0;34m(\u001b[0m\u001b[0md16\u001b[0m\u001b[0;34m.\u001b[0m\u001b[0mLLX\u001b[0m\u001b[0;34m,\u001b[0m\u001b[0md16\u001b[0m\u001b[0;34m.\u001b[0m\u001b[0mLLY\u001b[0m\u001b[0;34m)\u001b[0m\u001b[0;34m\u001b[0m\u001b[0;34m\u001b[0m\u001b[0m\n\u001b[0m\u001b[1;32m      2\u001b[0m \u001b[0mplt\u001b[0m\u001b[0;34m.\u001b[0m\u001b[0mxlim\u001b[0m\u001b[0;34m(\u001b[0m\u001b[0;34m(\u001b[0m\u001b[0;34m-\u001b[0m\u001b[0;36m5\u001b[0m\u001b[0;34m,\u001b[0m\u001b[0;36m10\u001b[0m\u001b[0;34m)\u001b[0m\u001b[0;34m)\u001b[0m\u001b[0;34m\u001b[0m\u001b[0;34m\u001b[0m\u001b[0m\n\u001b[1;32m      3\u001b[0m \u001b[0mplt\u001b[0m\u001b[0;34m.\u001b[0m\u001b[0mylim\u001b[0m\u001b[0;34m(\u001b[0m\u001b[0;34m(\u001b[0m\u001b[0;36m41\u001b[0m\u001b[0;34m,\u001b[0m\u001b[0;36m52\u001b[0m\u001b[0;34m)\u001b[0m\u001b[0;34m)\u001b[0m\u001b[0;34m\u001b[0m\u001b[0;34m\u001b[0m\u001b[0m\n\u001b[1;32m      4\u001b[0m \u001b[0mplt\u001b[0m\u001b[0;34m.\u001b[0m\u001b[0mshow\u001b[0m\u001b[0;34m(\u001b[0m\u001b[0;34m)\u001b[0m\u001b[0;34m\u001b[0m\u001b[0;34m\u001b[0m\u001b[0m\n",
      "\u001b[0;32m//anaconda3/lib/python3.7/site-packages/pandas/core/generic.py\u001b[0m in \u001b[0;36m__getattr__\u001b[0;34m(self, name)\u001b[0m\n\u001b[1;32m   5065\u001b[0m             \u001b[0;32mif\u001b[0m \u001b[0mself\u001b[0m\u001b[0;34m.\u001b[0m\u001b[0m_info_axis\u001b[0m\u001b[0;34m.\u001b[0m\u001b[0m_can_hold_identifiers_and_holds_name\u001b[0m\u001b[0;34m(\u001b[0m\u001b[0mname\u001b[0m\u001b[0;34m)\u001b[0m\u001b[0;34m:\u001b[0m\u001b[0;34m\u001b[0m\u001b[0;34m\u001b[0m\u001b[0m\n\u001b[1;32m   5066\u001b[0m                 \u001b[0;32mreturn\u001b[0m \u001b[0mself\u001b[0m\u001b[0;34m[\u001b[0m\u001b[0mname\u001b[0m\u001b[0;34m]\u001b[0m\u001b[0;34m\u001b[0m\u001b[0;34m\u001b[0m\u001b[0m\n\u001b[0;32m-> 5067\u001b[0;31m             \u001b[0;32mreturn\u001b[0m \u001b[0mobject\u001b[0m\u001b[0;34m.\u001b[0m\u001b[0m__getattribute__\u001b[0m\u001b[0;34m(\u001b[0m\u001b[0mself\u001b[0m\u001b[0;34m,\u001b[0m \u001b[0mname\u001b[0m\u001b[0;34m)\u001b[0m\u001b[0;34m\u001b[0m\u001b[0;34m\u001b[0m\u001b[0m\n\u001b[0m\u001b[1;32m   5068\u001b[0m \u001b[0;34m\u001b[0m\u001b[0m\n\u001b[1;32m   5069\u001b[0m     \u001b[0;32mdef\u001b[0m \u001b[0m__setattr__\u001b[0m\u001b[0;34m(\u001b[0m\u001b[0mself\u001b[0m\u001b[0;34m,\u001b[0m \u001b[0mname\u001b[0m\u001b[0;34m,\u001b[0m \u001b[0mvalue\u001b[0m\u001b[0;34m)\u001b[0m\u001b[0;34m:\u001b[0m\u001b[0;34m\u001b[0m\u001b[0;34m\u001b[0m\u001b[0m\n",
      "\u001b[0;31mAttributeError\u001b[0m: 'DataFrame' object has no attribute 'LLX'"
     ]
    }
   ],
   "source": [
    "plt.scatter(d16.LLX,d16.LLY)\n",
    "plt.xlim((-5,10))\n",
    "plt.ylim((41,52))\n",
    "plt.show()"
   ]
  },
  {
   "cell_type": "code",
   "execution_count": null,
   "metadata": {},
   "outputs": [],
   "source": []
  },
  {
   "cell_type": "code",
   "execution_count": null,
   "metadata": {},
   "outputs": [],
   "source": []
  }
 ],
 "metadata": {
  "kernelspec": {
   "display_name": "Python 3",
   "language": "python",
   "name": "python3"
  },
  "language_info": {
   "codemirror_mode": {
    "name": "ipython",
    "version": 3
   },
   "file_extension": ".py",
   "mimetype": "text/x-python",
   "name": "python",
   "nbconvert_exporter": "python",
   "pygments_lexer": "ipython3",
   "version": "3.7.3"
  }
 },
 "nbformat": 4,
 "nbformat_minor": 2
}
